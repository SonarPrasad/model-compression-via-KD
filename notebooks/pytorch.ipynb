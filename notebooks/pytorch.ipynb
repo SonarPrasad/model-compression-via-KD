{
  "cells": [
    {
      "cell_type": "code",
      "execution_count": 4,
      "metadata": {
        "id": "GB_GG7JVZ-Cs"
      },
      "outputs": [],
      "source": [
        "import torch\n",
        "import torch.nn as nn\n",
        "import torch.optim as optim\n",
        "from torchvision import datasets, transforms\n",
        "from torch.utils.data import DataLoader\n",
        "import timm  # for the BiT model"
      ]
    },
    {
      "cell_type": "code",
      "execution_count": 6,
      "metadata": {
        "id": "3roCIdVuafk1"
      },
      "outputs": [
        {
          "data": {
            "text/plain": [
              "device(type='cuda')"
            ]
          },
          "execution_count": 6,
          "metadata": {},
          "output_type": "execute_result"
        }
      ],
      "source": [
        "# Device configuration (Use GPU if available)\n",
        "device = torch.device('cuda' if torch.cuda.is_available() else 'cpu')\n",
        "device"
      ]
    },
    {
      "cell_type": "code",
      "execution_count": 7,
      "metadata": {
        "colab": {
          "base_uri": "https://localhost:8080/"
        },
        "id": "wwwqYKImasHK",
        "outputId": "69d5d0ae-abaf-4d8c-d82b-dffbfa050671"
      },
      "outputs": [
        {
          "name": "stdout",
          "output_type": "stream",
          "text": [
            "Downloading http://fashion-mnist.s3-website.eu-central-1.amazonaws.com/train-images-idx3-ubyte.gz\n",
            "Downloading http://fashion-mnist.s3-website.eu-central-1.amazonaws.com/train-images-idx3-ubyte.gz to data/FashionMNIST/raw/train-images-idx3-ubyte.gz\n"
          ]
        },
        {
          "name": "stderr",
          "output_type": "stream",
          "text": [
            "100%|██████████| 26421880/26421880 [00:07<00:00, 3688832.40it/s]\n"
          ]
        },
        {
          "name": "stdout",
          "output_type": "stream",
          "text": [
            "Extracting data/FashionMNIST/raw/train-images-idx3-ubyte.gz to data/FashionMNIST/raw\n",
            "\n",
            "Downloading http://fashion-mnist.s3-website.eu-central-1.amazonaws.com/train-labels-idx1-ubyte.gz\n",
            "Downloading http://fashion-mnist.s3-website.eu-central-1.amazonaws.com/train-labels-idx1-ubyte.gz to data/FashionMNIST/raw/train-labels-idx1-ubyte.gz\n"
          ]
        },
        {
          "name": "stderr",
          "output_type": "stream",
          "text": [
            "100%|██████████| 29515/29515 [00:00<00:00, 174648.02it/s]\n"
          ]
        },
        {
          "name": "stdout",
          "output_type": "stream",
          "text": [
            "Extracting data/FashionMNIST/raw/train-labels-idx1-ubyte.gz to data/FashionMNIST/raw\n",
            "\n",
            "Downloading http://fashion-mnist.s3-website.eu-central-1.amazonaws.com/t10k-images-idx3-ubyte.gz\n",
            "Downloading http://fashion-mnist.s3-website.eu-central-1.amazonaws.com/t10k-images-idx3-ubyte.gz to data/FashionMNIST/raw/t10k-images-idx3-ubyte.gz\n"
          ]
        },
        {
          "name": "stderr",
          "output_type": "stream",
          "text": [
            "100%|██████████| 4422102/4422102 [00:02<00:00, 1920686.98it/s]\n"
          ]
        },
        {
          "name": "stdout",
          "output_type": "stream",
          "text": [
            "Extracting data/FashionMNIST/raw/t10k-images-idx3-ubyte.gz to data/FashionMNIST/raw\n",
            "\n",
            "Downloading http://fashion-mnist.s3-website.eu-central-1.amazonaws.com/t10k-labels-idx1-ubyte.gz\n",
            "Downloading http://fashion-mnist.s3-website.eu-central-1.amazonaws.com/t10k-labels-idx1-ubyte.gz to data/FashionMNIST/raw/t10k-labels-idx1-ubyte.gz\n"
          ]
        },
        {
          "name": "stderr",
          "output_type": "stream",
          "text": [
            "100%|██████████| 5148/5148 [00:00<00:00, 5728914.03it/s]\n"
          ]
        },
        {
          "name": "stdout",
          "output_type": "stream",
          "text": [
            "Extracting data/FashionMNIST/raw/t10k-labels-idx1-ubyte.gz to data/FashionMNIST/raw\n",
            "\n"
          ]
        }
      ],
      "source": [
        "# Hyperparameters\n",
        "batch_size = 100\n",
        "num_classes = 10\n",
        "learning_rate = 0.001\n",
        "num_epochs = 5\n",
        "\n",
        "# Define the transform to resize Fashion MNIST images and convert to 3 channels (RGB)\n",
        "transform = transforms.Compose([\n",
        "    transforms.Resize((224, 224)),  # Resize to 224x224\n",
        "    transforms.Grayscale(num_output_channels=3),  # Convert grayscale to RGB\n",
        "    transforms.ToTensor(),\n",
        "    transforms.Normalize(mean=[0.5, 0.5, 0.5], std=[0.5, 0.5, 0.5])\n",
        "])\n",
        "\n",
        "# Load Fashion MNIST dataset\n",
        "train_dataset = datasets.FashionMNIST(root='data', train=True, transform=transform, download=True)\n",
        "test_dataset = datasets.FashionMNIST(root='data', train=False, transform=transform)\n",
        "\n",
        "train_loader = DataLoader(dataset=train_dataset, batch_size=batch_size, shuffle=True)\n",
        "test_loader = DataLoader(dataset=test_dataset, batch_size=batch_size, shuffle=False)"
      ]
    },
    {
      "cell_type": "code",
      "execution_count": 8,
      "metadata": {
        "colab": {
          "base_uri": "https://localhost:8080/",
          "height": 208,
          "referenced_widgets": [
            "60d9625ae3bc4e8dac01b182352cd6cb",
            "e6134b8b78b84409b42a98993b256c72",
            "3c3b221d91284f98a826fdc7554d5e31",
            "eb452b34451645de825b70f9134ee7c3",
            "24b81aee453f4bed92336e51771449c0",
            "250daeff447e4a0e8c7bd0885495a7d6",
            "3ed5d30e39154b81acb9b6dc40836c6f",
            "8fd0d0a751b1414da1127587f242d8a7",
            "42d1a34c8a384cc8b612da4183b8a92e",
            "eed6345e72fb48c3a0c613b7fd10f55e",
            "546362784ea14633aecbb587be3148f0"
          ]
        },
        "id": "xLmMsPqTau9d",
        "outputId": "e1138d0d-5837-4036-fe08-daadb4d8bf3c"
      },
      "outputs": [
        {
          "name": "stderr",
          "output_type": "stream",
          "text": [
            "/home/ps/miniconda3/envs/tf/lib/python3.9/site-packages/timm/models/_factory.py:117: UserWarning: Mapping deprecated model name resnetv2_50x1_bitm to current resnetv2_50x1_bit.goog_in21k_ft_in1k.\n",
            "  model = create_fn(\n"
          ]
        },
        {
          "data": {
            "application/vnd.jupyter.widget-view+json": {
              "model_id": "d2d541a0dca8476b8f3f6e8b22717e90",
              "version_major": 2,
              "version_minor": 0
            },
            "text/plain": [
              "model.safetensors:   0%|          | 0.00/102M [00:00<?, ?B/s]"
            ]
          },
          "metadata": {},
          "output_type": "display_data"
        }
      ],
      "source": [
        "# Load the BiT model (ResNet50x1)\n",
        "model = timm.create_model('resnetv2_50x1_bitm', pretrained=True, num_classes=num_classes)\n",
        "\n",
        "# Move model to the GPU device\n",
        "model = model.to(device)"
      ]
    },
    {
      "cell_type": "code",
      "execution_count": 16,
      "metadata": {},
      "outputs": [
        {
          "name": "stdout",
          "output_type": "stream",
          "text": [
            "ResNetV2(\n",
            "  (stem): Sequential(\n",
            "    (conv): StdConv2d(3, 64, kernel_size=(7, 7), stride=(2, 2), padding=(3, 3), bias=False)\n",
            "    (pad): ConstantPad2d(padding=(1, 1, 1, 1), value=0.0)\n",
            "    (pool): MaxPool2d(kernel_size=3, stride=2, padding=0, dilation=1, ceil_mode=False)\n",
            "  )\n",
            "  (stages): Sequential(\n",
            "    (0): ResNetStage(\n",
            "      (blocks): Sequential(\n",
            "        (0): PreActBottleneck(\n",
            "          (downsample): DownsampleConv(\n",
            "            (conv): StdConv2d(64, 256, kernel_size=(1, 1), stride=(1, 1), bias=False)\n",
            "            (norm): Identity()\n",
            "          )\n",
            "          (norm1): GroupNormAct(\n",
            "            32, 64, eps=1e-05, affine=True\n",
            "            (drop): Identity()\n",
            "            (act): ReLU(inplace=True)\n",
            "          )\n",
            "          (conv1): StdConv2d(64, 64, kernel_size=(1, 1), stride=(1, 1), bias=False)\n",
            "          (norm2): GroupNormAct(\n",
            "            32, 64, eps=1e-05, affine=True\n",
            "            (drop): Identity()\n",
            "            (act): ReLU(inplace=True)\n",
            "          )\n",
            "          (conv2): StdConv2d(64, 64, kernel_size=(3, 3), stride=(1, 1), padding=(1, 1), bias=False)\n",
            "          (norm3): GroupNormAct(\n",
            "            32, 64, eps=1e-05, affine=True\n",
            "            (drop): Identity()\n",
            "            (act): ReLU(inplace=True)\n",
            "          )\n",
            "          (conv3): StdConv2d(64, 256, kernel_size=(1, 1), stride=(1, 1), bias=False)\n",
            "          (drop_path): Identity()\n",
            "        )\n",
            "        (1): PreActBottleneck(\n",
            "          (norm1): GroupNormAct(\n",
            "            32, 256, eps=1e-05, affine=True\n",
            "            (drop): Identity()\n",
            "            (act): ReLU(inplace=True)\n",
            "          )\n",
            "          (conv1): StdConv2d(256, 64, kernel_size=(1, 1), stride=(1, 1), bias=False)\n",
            "          (norm2): GroupNormAct(\n",
            "            32, 64, eps=1e-05, affine=True\n",
            "            (drop): Identity()\n",
            "            (act): ReLU(inplace=True)\n",
            "          )\n",
            "          (conv2): StdConv2d(64, 64, kernel_size=(3, 3), stride=(1, 1), padding=(1, 1), bias=False)\n",
            "          (norm3): GroupNormAct(\n",
            "            32, 64, eps=1e-05, affine=True\n",
            "            (drop): Identity()\n",
            "            (act): ReLU(inplace=True)\n",
            "          )\n",
            "          (conv3): StdConv2d(64, 256, kernel_size=(1, 1), stride=(1, 1), bias=False)\n",
            "          (drop_path): Identity()\n",
            "        )\n",
            "        (2): PreActBottleneck(\n",
            "          (norm1): GroupNormAct(\n",
            "            32, 256, eps=1e-05, affine=True\n",
            "            (drop): Identity()\n",
            "            (act): ReLU(inplace=True)\n",
            "          )\n",
            "          (conv1): StdConv2d(256, 64, kernel_size=(1, 1), stride=(1, 1), bias=False)\n",
            "          (norm2): GroupNormAct(\n",
            "            32, 64, eps=1e-05, affine=True\n",
            "            (drop): Identity()\n",
            "            (act): ReLU(inplace=True)\n",
            "          )\n",
            "          (conv2): StdConv2d(64, 64, kernel_size=(3, 3), stride=(1, 1), padding=(1, 1), bias=False)\n",
            "          (norm3): GroupNormAct(\n",
            "            32, 64, eps=1e-05, affine=True\n",
            "            (drop): Identity()\n",
            "            (act): ReLU(inplace=True)\n",
            "          )\n",
            "          (conv3): StdConv2d(64, 256, kernel_size=(1, 1), stride=(1, 1), bias=False)\n",
            "          (drop_path): Identity()\n",
            "        )\n",
            "      )\n",
            "    )\n",
            "    (1): ResNetStage(\n",
            "      (blocks): Sequential(\n",
            "        (0): PreActBottleneck(\n",
            "          (downsample): DownsampleConv(\n",
            "            (conv): StdConv2d(256, 512, kernel_size=(1, 1), stride=(2, 2), bias=False)\n",
            "            (norm): Identity()\n",
            "          )\n",
            "          (norm1): GroupNormAct(\n",
            "            32, 256, eps=1e-05, affine=True\n",
            "            (drop): Identity()\n",
            "            (act): ReLU(inplace=True)\n",
            "          )\n",
            "          (conv1): StdConv2d(256, 128, kernel_size=(1, 1), stride=(1, 1), bias=False)\n",
            "          (norm2): GroupNormAct(\n",
            "            32, 128, eps=1e-05, affine=True\n",
            "            (drop): Identity()\n",
            "            (act): ReLU(inplace=True)\n",
            "          )\n",
            "          (conv2): StdConv2d(128, 128, kernel_size=(3, 3), stride=(2, 2), padding=(1, 1), bias=False)\n",
            "          (norm3): GroupNormAct(\n",
            "            32, 128, eps=1e-05, affine=True\n",
            "            (drop): Identity()\n",
            "            (act): ReLU(inplace=True)\n",
            "          )\n",
            "          (conv3): StdConv2d(128, 512, kernel_size=(1, 1), stride=(1, 1), bias=False)\n",
            "          (drop_path): Identity()\n",
            "        )\n",
            "        (1): PreActBottleneck(\n",
            "          (norm1): GroupNormAct(\n",
            "            32, 512, eps=1e-05, affine=True\n",
            "            (drop): Identity()\n",
            "            (act): ReLU(inplace=True)\n",
            "          )\n",
            "          (conv1): StdConv2d(512, 128, kernel_size=(1, 1), stride=(1, 1), bias=False)\n",
            "          (norm2): GroupNormAct(\n",
            "            32, 128, eps=1e-05, affine=True\n",
            "            (drop): Identity()\n",
            "            (act): ReLU(inplace=True)\n",
            "          )\n",
            "          (conv2): StdConv2d(128, 128, kernel_size=(3, 3), stride=(1, 1), padding=(1, 1), bias=False)\n",
            "          (norm3): GroupNormAct(\n",
            "            32, 128, eps=1e-05, affine=True\n",
            "            (drop): Identity()\n",
            "            (act): ReLU(inplace=True)\n",
            "          )\n",
            "          (conv3): StdConv2d(128, 512, kernel_size=(1, 1), stride=(1, 1), bias=False)\n",
            "          (drop_path): Identity()\n",
            "        )\n",
            "        (2): PreActBottleneck(\n",
            "          (norm1): GroupNormAct(\n",
            "            32, 512, eps=1e-05, affine=True\n",
            "            (drop): Identity()\n",
            "            (act): ReLU(inplace=True)\n",
            "          )\n",
            "          (conv1): StdConv2d(512, 128, kernel_size=(1, 1), stride=(1, 1), bias=False)\n",
            "          (norm2): GroupNormAct(\n",
            "            32, 128, eps=1e-05, affine=True\n",
            "            (drop): Identity()\n",
            "            (act): ReLU(inplace=True)\n",
            "          )\n",
            "          (conv2): StdConv2d(128, 128, kernel_size=(3, 3), stride=(1, 1), padding=(1, 1), bias=False)\n",
            "          (norm3): GroupNormAct(\n",
            "            32, 128, eps=1e-05, affine=True\n",
            "            (drop): Identity()\n",
            "            (act): ReLU(inplace=True)\n",
            "          )\n",
            "          (conv3): StdConv2d(128, 512, kernel_size=(1, 1), stride=(1, 1), bias=False)\n",
            "          (drop_path): Identity()\n",
            "        )\n",
            "        (3): PreActBottleneck(\n",
            "          (norm1): GroupNormAct(\n",
            "            32, 512, eps=1e-05, affine=True\n",
            "            (drop): Identity()\n",
            "            (act): ReLU(inplace=True)\n",
            "          )\n",
            "          (conv1): StdConv2d(512, 128, kernel_size=(1, 1), stride=(1, 1), bias=False)\n",
            "          (norm2): GroupNormAct(\n",
            "            32, 128, eps=1e-05, affine=True\n",
            "            (drop): Identity()\n",
            "            (act): ReLU(inplace=True)\n",
            "          )\n",
            "          (conv2): StdConv2d(128, 128, kernel_size=(3, 3), stride=(1, 1), padding=(1, 1), bias=False)\n",
            "          (norm3): GroupNormAct(\n",
            "            32, 128, eps=1e-05, affine=True\n",
            "            (drop): Identity()\n",
            "            (act): ReLU(inplace=True)\n",
            "          )\n",
            "          (conv3): StdConv2d(128, 512, kernel_size=(1, 1), stride=(1, 1), bias=False)\n",
            "          (drop_path): Identity()\n",
            "        )\n",
            "      )\n",
            "    )\n",
            "    (2): ResNetStage(\n",
            "      (blocks): Sequential(\n",
            "        (0): PreActBottleneck(\n",
            "          (downsample): DownsampleConv(\n",
            "            (conv): StdConv2d(512, 1024, kernel_size=(1, 1), stride=(2, 2), bias=False)\n",
            "            (norm): Identity()\n",
            "          )\n",
            "          (norm1): GroupNormAct(\n",
            "            32, 512, eps=1e-05, affine=True\n",
            "            (drop): Identity()\n",
            "            (act): ReLU(inplace=True)\n",
            "          )\n",
            "          (conv1): StdConv2d(512, 256, kernel_size=(1, 1), stride=(1, 1), bias=False)\n",
            "          (norm2): GroupNormAct(\n",
            "            32, 256, eps=1e-05, affine=True\n",
            "            (drop): Identity()\n",
            "            (act): ReLU(inplace=True)\n",
            "          )\n",
            "          (conv2): StdConv2d(256, 256, kernel_size=(3, 3), stride=(2, 2), padding=(1, 1), bias=False)\n",
            "          (norm3): GroupNormAct(\n",
            "            32, 256, eps=1e-05, affine=True\n",
            "            (drop): Identity()\n",
            "            (act): ReLU(inplace=True)\n",
            "          )\n",
            "          (conv3): StdConv2d(256, 1024, kernel_size=(1, 1), stride=(1, 1), bias=False)\n",
            "          (drop_path): Identity()\n",
            "        )\n",
            "        (1): PreActBottleneck(\n",
            "          (norm1): GroupNormAct(\n",
            "            32, 1024, eps=1e-05, affine=True\n",
            "            (drop): Identity()\n",
            "            (act): ReLU(inplace=True)\n",
            "          )\n",
            "          (conv1): StdConv2d(1024, 256, kernel_size=(1, 1), stride=(1, 1), bias=False)\n",
            "          (norm2): GroupNormAct(\n",
            "            32, 256, eps=1e-05, affine=True\n",
            "            (drop): Identity()\n",
            "            (act): ReLU(inplace=True)\n",
            "          )\n",
            "          (conv2): StdConv2d(256, 256, kernel_size=(3, 3), stride=(1, 1), padding=(1, 1), bias=False)\n",
            "          (norm3): GroupNormAct(\n",
            "            32, 256, eps=1e-05, affine=True\n",
            "            (drop): Identity()\n",
            "            (act): ReLU(inplace=True)\n",
            "          )\n",
            "          (conv3): StdConv2d(256, 1024, kernel_size=(1, 1), stride=(1, 1), bias=False)\n",
            "          (drop_path): Identity()\n",
            "        )\n",
            "        (2): PreActBottleneck(\n",
            "          (norm1): GroupNormAct(\n",
            "            32, 1024, eps=1e-05, affine=True\n",
            "            (drop): Identity()\n",
            "            (act): ReLU(inplace=True)\n",
            "          )\n",
            "          (conv1): StdConv2d(1024, 256, kernel_size=(1, 1), stride=(1, 1), bias=False)\n",
            "          (norm2): GroupNormAct(\n",
            "            32, 256, eps=1e-05, affine=True\n",
            "            (drop): Identity()\n",
            "            (act): ReLU(inplace=True)\n",
            "          )\n",
            "          (conv2): StdConv2d(256, 256, kernel_size=(3, 3), stride=(1, 1), padding=(1, 1), bias=False)\n",
            "          (norm3): GroupNormAct(\n",
            "            32, 256, eps=1e-05, affine=True\n",
            "            (drop): Identity()\n",
            "            (act): ReLU(inplace=True)\n",
            "          )\n",
            "          (conv3): StdConv2d(256, 1024, kernel_size=(1, 1), stride=(1, 1), bias=False)\n",
            "          (drop_path): Identity()\n",
            "        )\n",
            "        (3): PreActBottleneck(\n",
            "          (norm1): GroupNormAct(\n",
            "            32, 1024, eps=1e-05, affine=True\n",
            "            (drop): Identity()\n",
            "            (act): ReLU(inplace=True)\n",
            "          )\n",
            "          (conv1): StdConv2d(1024, 256, kernel_size=(1, 1), stride=(1, 1), bias=False)\n",
            "          (norm2): GroupNormAct(\n",
            "            32, 256, eps=1e-05, affine=True\n",
            "            (drop): Identity()\n",
            "            (act): ReLU(inplace=True)\n",
            "          )\n",
            "          (conv2): StdConv2d(256, 256, kernel_size=(3, 3), stride=(1, 1), padding=(1, 1), bias=False)\n",
            "          (norm3): GroupNormAct(\n",
            "            32, 256, eps=1e-05, affine=True\n",
            "            (drop): Identity()\n",
            "            (act): ReLU(inplace=True)\n",
            "          )\n",
            "          (conv3): StdConv2d(256, 1024, kernel_size=(1, 1), stride=(1, 1), bias=False)\n",
            "          (drop_path): Identity()\n",
            "        )\n",
            "        (4): PreActBottleneck(\n",
            "          (norm1): GroupNormAct(\n",
            "            32, 1024, eps=1e-05, affine=True\n",
            "            (drop): Identity()\n",
            "            (act): ReLU(inplace=True)\n",
            "          )\n",
            "          (conv1): StdConv2d(1024, 256, kernel_size=(1, 1), stride=(1, 1), bias=False)\n",
            "          (norm2): GroupNormAct(\n",
            "            32, 256, eps=1e-05, affine=True\n",
            "            (drop): Identity()\n",
            "            (act): ReLU(inplace=True)\n",
            "          )\n",
            "          (conv2): StdConv2d(256, 256, kernel_size=(3, 3), stride=(1, 1), padding=(1, 1), bias=False)\n",
            "          (norm3): GroupNormAct(\n",
            "            32, 256, eps=1e-05, affine=True\n",
            "            (drop): Identity()\n",
            "            (act): ReLU(inplace=True)\n",
            "          )\n",
            "          (conv3): StdConv2d(256, 1024, kernel_size=(1, 1), stride=(1, 1), bias=False)\n",
            "          (drop_path): Identity()\n",
            "        )\n",
            "        (5): PreActBottleneck(\n",
            "          (norm1): GroupNormAct(\n",
            "            32, 1024, eps=1e-05, affine=True\n",
            "            (drop): Identity()\n",
            "            (act): ReLU(inplace=True)\n",
            "          )\n",
            "          (conv1): StdConv2d(1024, 256, kernel_size=(1, 1), stride=(1, 1), bias=False)\n",
            "          (norm2): GroupNormAct(\n",
            "            32, 256, eps=1e-05, affine=True\n",
            "            (drop): Identity()\n",
            "            (act): ReLU(inplace=True)\n",
            "          )\n",
            "          (conv2): StdConv2d(256, 256, kernel_size=(3, 3), stride=(1, 1), padding=(1, 1), bias=False)\n",
            "          (norm3): GroupNormAct(\n",
            "            32, 256, eps=1e-05, affine=True\n",
            "            (drop): Identity()\n",
            "            (act): ReLU(inplace=True)\n",
            "          )\n",
            "          (conv3): StdConv2d(256, 1024, kernel_size=(1, 1), stride=(1, 1), bias=False)\n",
            "          (drop_path): Identity()\n",
            "        )\n",
            "      )\n",
            "    )\n",
            "    (3): ResNetStage(\n",
            "      (blocks): Sequential(\n",
            "        (0): PreActBottleneck(\n",
            "          (downsample): DownsampleConv(\n",
            "            (conv): StdConv2d(1024, 2048, kernel_size=(1, 1), stride=(2, 2), bias=False)\n",
            "            (norm): Identity()\n",
            "          )\n",
            "          (norm1): GroupNormAct(\n",
            "            32, 1024, eps=1e-05, affine=True\n",
            "            (drop): Identity()\n",
            "            (act): ReLU(inplace=True)\n",
            "          )\n",
            "          (conv1): StdConv2d(1024, 512, kernel_size=(1, 1), stride=(1, 1), bias=False)\n",
            "          (norm2): GroupNormAct(\n",
            "            32, 512, eps=1e-05, affine=True\n",
            "            (drop): Identity()\n",
            "            (act): ReLU(inplace=True)\n",
            "          )\n",
            "          (conv2): StdConv2d(512, 512, kernel_size=(3, 3), stride=(2, 2), padding=(1, 1), bias=False)\n",
            "          (norm3): GroupNormAct(\n",
            "            32, 512, eps=1e-05, affine=True\n",
            "            (drop): Identity()\n",
            "            (act): ReLU(inplace=True)\n",
            "          )\n",
            "          (conv3): StdConv2d(512, 2048, kernel_size=(1, 1), stride=(1, 1), bias=False)\n",
            "          (drop_path): Identity()\n",
            "        )\n",
            "        (1): PreActBottleneck(\n",
            "          (norm1): GroupNormAct(\n",
            "            32, 2048, eps=1e-05, affine=True\n",
            "            (drop): Identity()\n",
            "            (act): ReLU(inplace=True)\n",
            "          )\n",
            "          (conv1): StdConv2d(2048, 512, kernel_size=(1, 1), stride=(1, 1), bias=False)\n",
            "          (norm2): GroupNormAct(\n",
            "            32, 512, eps=1e-05, affine=True\n",
            "            (drop): Identity()\n",
            "            (act): ReLU(inplace=True)\n",
            "          )\n",
            "          (conv2): StdConv2d(512, 512, kernel_size=(3, 3), stride=(1, 1), padding=(1, 1), bias=False)\n",
            "          (norm3): GroupNormAct(\n",
            "            32, 512, eps=1e-05, affine=True\n",
            "            (drop): Identity()\n",
            "            (act): ReLU(inplace=True)\n",
            "          )\n",
            "          (conv3): StdConv2d(512, 2048, kernel_size=(1, 1), stride=(1, 1), bias=False)\n",
            "          (drop_path): Identity()\n",
            "        )\n",
            "        (2): PreActBottleneck(\n",
            "          (norm1): GroupNormAct(\n",
            "            32, 2048, eps=1e-05, affine=True\n",
            "            (drop): Identity()\n",
            "            (act): ReLU(inplace=True)\n",
            "          )\n",
            "          (conv1): StdConv2d(2048, 512, kernel_size=(1, 1), stride=(1, 1), bias=False)\n",
            "          (norm2): GroupNormAct(\n",
            "            32, 512, eps=1e-05, affine=True\n",
            "            (drop): Identity()\n",
            "            (act): ReLU(inplace=True)\n",
            "          )\n",
            "          (conv2): StdConv2d(512, 512, kernel_size=(3, 3), stride=(1, 1), padding=(1, 1), bias=False)\n",
            "          (norm3): GroupNormAct(\n",
            "            32, 512, eps=1e-05, affine=True\n",
            "            (drop): Identity()\n",
            "            (act): ReLU(inplace=True)\n",
            "          )\n",
            "          (conv3): StdConv2d(512, 2048, kernel_size=(1, 1), stride=(1, 1), bias=False)\n",
            "          (drop_path): Identity()\n",
            "        )\n",
            "      )\n",
            "    )\n",
            "  )\n",
            "  (norm): GroupNormAct(\n",
            "    32, 2048, eps=1e-05, affine=True\n",
            "    (drop): Identity()\n",
            "    (act): ReLU(inplace=True)\n",
            "  )\n",
            "  (head): ClassifierHead(\n",
            "    (global_pool): SelectAdaptivePool2d(pool_type=avg, flatten=Identity())\n",
            "    (drop): Dropout(p=0.0, inplace=False)\n",
            "    (fc): Conv2d(2048, 10, kernel_size=(1, 1), stride=(1, 1))\n",
            "    (flatten): Flatten(start_dim=1, end_dim=-1)\n",
            "  )\n",
            ")\n"
          ]
        }
      ],
      "source": [
        "print(model)"
      ]
    },
    {
      "cell_type": "code",
      "execution_count": 9,
      "metadata": {
        "id": "dM2bA4M4a2K2"
      },
      "outputs": [],
      "source": [
        "# Loss and optimizer\n",
        "criterion = nn.CrossEntropyLoss()\n",
        "optimizer = optim.Adam(model.parameters(), lr=learning_rate)"
      ]
    },
    {
      "cell_type": "code",
      "execution_count": 11,
      "metadata": {},
      "outputs": [
        {
          "name": "stderr",
          "output_type": "stream",
          "text": [
            "Epoch 1/5: 100%|██████████| 600/600 [3:08:42<00:00, 18.87s/it]    \n"
          ]
        },
        {
          "name": "stdout",
          "output_type": "stream",
          "text": [
            "Epoch [1/5], Loss: 0.4505, Accuracy: 83.81%\n"
          ]
        },
        {
          "name": "stderr",
          "output_type": "stream",
          "text": [
            "Epoch 2/5: 100%|██████████| 600/600 [3:11:07<00:00, 19.11s/it]  \n"
          ]
        },
        {
          "name": "stdout",
          "output_type": "stream",
          "text": [
            "Epoch [2/5], Loss: 0.2802, Accuracy: 89.84%\n"
          ]
        },
        {
          "name": "stderr",
          "output_type": "stream",
          "text": [
            "Epoch 3/5: 100%|██████████| 600/600 [2:59:09<00:00, 17.92s/it]  \n"
          ]
        },
        {
          "name": "stdout",
          "output_type": "stream",
          "text": [
            "Epoch [3/5], Loss: 0.2342, Accuracy: 91.47%\n"
          ]
        },
        {
          "name": "stderr",
          "output_type": "stream",
          "text": [
            "Epoch 4/5: 100%|██████████| 600/600 [2:59:15<00:00, 17.93s/it]  \n"
          ]
        },
        {
          "name": "stdout",
          "output_type": "stream",
          "text": [
            "Epoch [4/5], Loss: 0.1988, Accuracy: 92.80%\n"
          ]
        },
        {
          "name": "stderr",
          "output_type": "stream",
          "text": [
            "Epoch 5/5: 100%|██████████| 600/600 [3:12:56<00:00, 19.29s/it]   \n"
          ]
        },
        {
          "name": "stdout",
          "output_type": "stream",
          "text": [
            "Epoch [5/5], Loss: 0.1778, Accuracy: 93.52%\n"
          ]
        }
      ],
      "source": [
        "from tqdm import tqdm\n",
        "\n",
        "def train_model(model, train_loader, criterion, optimizer, num_epochs):\n",
        "    model.train()\n",
        "    for epoch in range(num_epochs):\n",
        "        running_loss = 0.0\n",
        "        correct = 0\n",
        "        total = 0\n",
        "\n",
        "        # Adding tqdm to visualize progress\n",
        "        for images, labels in tqdm(train_loader, desc=f'Epoch {epoch+1}/{num_epochs}'):\n",
        "            images = images.to(device)\n",
        "            labels = labels.to(device)\n",
        "\n",
        "            outputs = model(images)\n",
        "            loss = criterion(outputs, labels)\n",
        "\n",
        "            optimizer.zero_grad()\n",
        "            loss.backward()\n",
        "            optimizer.step()\n",
        "\n",
        "            running_loss += loss.item() * images.size(0)\n",
        "            _, predicted = torch.max(outputs, 1)\n",
        "            total += labels.size(0)\n",
        "            correct += (predicted == labels).sum().item()\n",
        "\n",
        "        epoch_loss = running_loss / len(train_loader.dataset)\n",
        "        epoch_acc = 100 * correct / total\n",
        "\n",
        "        print(f'Epoch [{epoch+1}/{num_epochs}], Loss: {epoch_loss:.4f}, Accuracy: {epoch_acc:.2f}%')\n",
        "\n",
        "# Train the model\n",
        "train_model(model, train_loader, criterion, optimizer, num_epochs)"
      ]
    },
    {
      "cell_type": "code",
      "execution_count": 13,
      "metadata": {
        "id": "EOqLvjDFbAyN"
      },
      "outputs": [
        {
          "name": "stderr",
          "output_type": "stream",
          "text": [
            "Evaluating: 100%|██████████| 100/100 [10:05<00:00,  6.06s/it]"
          ]
        },
        {
          "name": "stdout",
          "output_type": "stream",
          "text": [
            "Test Accuracy: 92.59%\n"
          ]
        },
        {
          "name": "stderr",
          "output_type": "stream",
          "text": [
            "\n"
          ]
        }
      ],
      "source": [
        "from tqdm import tqdm\n",
        "\n",
        "# Evaluation function with progress tracking\n",
        "def evaluate_model(model, test_loader):\n",
        "    model.eval()\n",
        "    correct = 0\n",
        "    total = 0\n",
        "    with torch.no_grad():\n",
        "        # Adding tqdm to visualize progress\n",
        "        for images, labels in tqdm(test_loader, desc='Evaluating'):\n",
        "            images = images.to(device)\n",
        "            labels = labels.to(device)\n",
        "            outputs = model(images)\n",
        "            _, predicted = torch.max(outputs.data, 1)\n",
        "            total += labels.size(0)\n",
        "            correct += (predicted == labels).sum().item()\n",
        "\n",
        "    accuracy = 100 * correct / total\n",
        "    print(f'Test Accuracy: {accuracy:.2f}%')\n",
        "\n",
        "# Evaluate the model\n",
        "evaluate_model(model, test_loader)"
      ]
    },
    {
      "cell_type": "code",
      "execution_count": 22,
      "metadata": {},
      "outputs": [],
      "source": [
        "torch.save(model.state_dict(), \"teacher models/bitm_resnet50x1_FMnist.pth\")"
      ]
    }
  ],
  "metadata": {
    "accelerator": "TPU",
    "colab": {
      "gpuType": "V28",
      "provenance": []
    },
    "kernelspec": {
      "display_name": "Python 3",
      "name": "python3"
    },
    "language_info": {
      "codemirror_mode": {
        "name": "ipython",
        "version": 3
      },
      "file_extension": ".py",
      "mimetype": "text/x-python",
      "name": "python",
      "nbconvert_exporter": "python",
      "pygments_lexer": "ipython3",
      "version": "3.9.19"
    },
    "widgets": {
      "application/vnd.jupyter.widget-state+json": {
        "24b81aee453f4bed92336e51771449c0": {
          "model_module": "@jupyter-widgets/base",
          "model_module_version": "1.2.0",
          "model_name": "LayoutModel",
          "state": {
            "_model_module": "@jupyter-widgets/base",
            "_model_module_version": "1.2.0",
            "_model_name": "LayoutModel",
            "_view_count": null,
            "_view_module": "@jupyter-widgets/base",
            "_view_module_version": "1.2.0",
            "_view_name": "LayoutView",
            "align_content": null,
            "align_items": null,
            "align_self": null,
            "border": null,
            "bottom": null,
            "display": null,
            "flex": null,
            "flex_flow": null,
            "grid_area": null,
            "grid_auto_columns": null,
            "grid_auto_flow": null,
            "grid_auto_rows": null,
            "grid_column": null,
            "grid_gap": null,
            "grid_row": null,
            "grid_template_areas": null,
            "grid_template_columns": null,
            "grid_template_rows": null,
            "height": null,
            "justify_content": null,
            "justify_items": null,
            "left": null,
            "margin": null,
            "max_height": null,
            "max_width": null,
            "min_height": null,
            "min_width": null,
            "object_fit": null,
            "object_position": null,
            "order": null,
            "overflow": null,
            "overflow_x": null,
            "overflow_y": null,
            "padding": null,
            "right": null,
            "top": null,
            "visibility": null,
            "width": null
          }
        },
        "250daeff447e4a0e8c7bd0885495a7d6": {
          "model_module": "@jupyter-widgets/base",
          "model_module_version": "1.2.0",
          "model_name": "LayoutModel",
          "state": {
            "_model_module": "@jupyter-widgets/base",
            "_model_module_version": "1.2.0",
            "_model_name": "LayoutModel",
            "_view_count": null,
            "_view_module": "@jupyter-widgets/base",
            "_view_module_version": "1.2.0",
            "_view_name": "LayoutView",
            "align_content": null,
            "align_items": null,
            "align_self": null,
            "border": null,
            "bottom": null,
            "display": null,
            "flex": null,
            "flex_flow": null,
            "grid_area": null,
            "grid_auto_columns": null,
            "grid_auto_flow": null,
            "grid_auto_rows": null,
            "grid_column": null,
            "grid_gap": null,
            "grid_row": null,
            "grid_template_areas": null,
            "grid_template_columns": null,
            "grid_template_rows": null,
            "height": null,
            "justify_content": null,
            "justify_items": null,
            "left": null,
            "margin": null,
            "max_height": null,
            "max_width": null,
            "min_height": null,
            "min_width": null,
            "object_fit": null,
            "object_position": null,
            "order": null,
            "overflow": null,
            "overflow_x": null,
            "overflow_y": null,
            "padding": null,
            "right": null,
            "top": null,
            "visibility": null,
            "width": null
          }
        },
        "3c3b221d91284f98a826fdc7554d5e31": {
          "model_module": "@jupyter-widgets/controls",
          "model_module_version": "1.5.0",
          "model_name": "FloatProgressModel",
          "state": {
            "_dom_classes": [],
            "_model_module": "@jupyter-widgets/controls",
            "_model_module_version": "1.5.0",
            "_model_name": "FloatProgressModel",
            "_view_count": null,
            "_view_module": "@jupyter-widgets/controls",
            "_view_module_version": "1.5.0",
            "_view_name": "ProgressView",
            "bar_style": "success",
            "description": "",
            "description_tooltip": null,
            "layout": "IPY_MODEL_8fd0d0a751b1414da1127587f242d8a7",
            "max": 102212646,
            "min": 0,
            "orientation": "horizontal",
            "style": "IPY_MODEL_42d1a34c8a384cc8b612da4183b8a92e",
            "value": 102212646
          }
        },
        "3ed5d30e39154b81acb9b6dc40836c6f": {
          "model_module": "@jupyter-widgets/controls",
          "model_module_version": "1.5.0",
          "model_name": "DescriptionStyleModel",
          "state": {
            "_model_module": "@jupyter-widgets/controls",
            "_model_module_version": "1.5.0",
            "_model_name": "DescriptionStyleModel",
            "_view_count": null,
            "_view_module": "@jupyter-widgets/base",
            "_view_module_version": "1.2.0",
            "_view_name": "StyleView",
            "description_width": ""
          }
        },
        "42d1a34c8a384cc8b612da4183b8a92e": {
          "model_module": "@jupyter-widgets/controls",
          "model_module_version": "1.5.0",
          "model_name": "ProgressStyleModel",
          "state": {
            "_model_module": "@jupyter-widgets/controls",
            "_model_module_version": "1.5.0",
            "_model_name": "ProgressStyleModel",
            "_view_count": null,
            "_view_module": "@jupyter-widgets/base",
            "_view_module_version": "1.2.0",
            "_view_name": "StyleView",
            "bar_color": null,
            "description_width": ""
          }
        },
        "546362784ea14633aecbb587be3148f0": {
          "model_module": "@jupyter-widgets/controls",
          "model_module_version": "1.5.0",
          "model_name": "DescriptionStyleModel",
          "state": {
            "_model_module": "@jupyter-widgets/controls",
            "_model_module_version": "1.5.0",
            "_model_name": "DescriptionStyleModel",
            "_view_count": null,
            "_view_module": "@jupyter-widgets/base",
            "_view_module_version": "1.2.0",
            "_view_name": "StyleView",
            "description_width": ""
          }
        },
        "60d9625ae3bc4e8dac01b182352cd6cb": {
          "model_module": "@jupyter-widgets/controls",
          "model_module_version": "1.5.0",
          "model_name": "HBoxModel",
          "state": {
            "_dom_classes": [],
            "_model_module": "@jupyter-widgets/controls",
            "_model_module_version": "1.5.0",
            "_model_name": "HBoxModel",
            "_view_count": null,
            "_view_module": "@jupyter-widgets/controls",
            "_view_module_version": "1.5.0",
            "_view_name": "HBoxView",
            "box_style": "",
            "children": [
              "IPY_MODEL_e6134b8b78b84409b42a98993b256c72",
              "IPY_MODEL_3c3b221d91284f98a826fdc7554d5e31",
              "IPY_MODEL_eb452b34451645de825b70f9134ee7c3"
            ],
            "layout": "IPY_MODEL_24b81aee453f4bed92336e51771449c0"
          }
        },
        "8fd0d0a751b1414da1127587f242d8a7": {
          "model_module": "@jupyter-widgets/base",
          "model_module_version": "1.2.0",
          "model_name": "LayoutModel",
          "state": {
            "_model_module": "@jupyter-widgets/base",
            "_model_module_version": "1.2.0",
            "_model_name": "LayoutModel",
            "_view_count": null,
            "_view_module": "@jupyter-widgets/base",
            "_view_module_version": "1.2.0",
            "_view_name": "LayoutView",
            "align_content": null,
            "align_items": null,
            "align_self": null,
            "border": null,
            "bottom": null,
            "display": null,
            "flex": null,
            "flex_flow": null,
            "grid_area": null,
            "grid_auto_columns": null,
            "grid_auto_flow": null,
            "grid_auto_rows": null,
            "grid_column": null,
            "grid_gap": null,
            "grid_row": null,
            "grid_template_areas": null,
            "grid_template_columns": null,
            "grid_template_rows": null,
            "height": null,
            "justify_content": null,
            "justify_items": null,
            "left": null,
            "margin": null,
            "max_height": null,
            "max_width": null,
            "min_height": null,
            "min_width": null,
            "object_fit": null,
            "object_position": null,
            "order": null,
            "overflow": null,
            "overflow_x": null,
            "overflow_y": null,
            "padding": null,
            "right": null,
            "top": null,
            "visibility": null,
            "width": null
          }
        },
        "e6134b8b78b84409b42a98993b256c72": {
          "model_module": "@jupyter-widgets/controls",
          "model_module_version": "1.5.0",
          "model_name": "HTMLModel",
          "state": {
            "_dom_classes": [],
            "_model_module": "@jupyter-widgets/controls",
            "_model_module_version": "1.5.0",
            "_model_name": "HTMLModel",
            "_view_count": null,
            "_view_module": "@jupyter-widgets/controls",
            "_view_module_version": "1.5.0",
            "_view_name": "HTMLView",
            "description": "",
            "description_tooltip": null,
            "layout": "IPY_MODEL_250daeff447e4a0e8c7bd0885495a7d6",
            "placeholder": "​",
            "style": "IPY_MODEL_3ed5d30e39154b81acb9b6dc40836c6f",
            "value": "model.safetensors: 100%"
          }
        },
        "eb452b34451645de825b70f9134ee7c3": {
          "model_module": "@jupyter-widgets/controls",
          "model_module_version": "1.5.0",
          "model_name": "HTMLModel",
          "state": {
            "_dom_classes": [],
            "_model_module": "@jupyter-widgets/controls",
            "_model_module_version": "1.5.0",
            "_model_name": "HTMLModel",
            "_view_count": null,
            "_view_module": "@jupyter-widgets/controls",
            "_view_module_version": "1.5.0",
            "_view_name": "HTMLView",
            "description": "",
            "description_tooltip": null,
            "layout": "IPY_MODEL_eed6345e72fb48c3a0c613b7fd10f55e",
            "placeholder": "​",
            "style": "IPY_MODEL_546362784ea14633aecbb587be3148f0",
            "value": " 102M/102M [00:02&lt;00:00, 37.3MB/s]"
          }
        },
        "eed6345e72fb48c3a0c613b7fd10f55e": {
          "model_module": "@jupyter-widgets/base",
          "model_module_version": "1.2.0",
          "model_name": "LayoutModel",
          "state": {
            "_model_module": "@jupyter-widgets/base",
            "_model_module_version": "1.2.0",
            "_model_name": "LayoutModel",
            "_view_count": null,
            "_view_module": "@jupyter-widgets/base",
            "_view_module_version": "1.2.0",
            "_view_name": "LayoutView",
            "align_content": null,
            "align_items": null,
            "align_self": null,
            "border": null,
            "bottom": null,
            "display": null,
            "flex": null,
            "flex_flow": null,
            "grid_area": null,
            "grid_auto_columns": null,
            "grid_auto_flow": null,
            "grid_auto_rows": null,
            "grid_column": null,
            "grid_gap": null,
            "grid_row": null,
            "grid_template_areas": null,
            "grid_template_columns": null,
            "grid_template_rows": null,
            "height": null,
            "justify_content": null,
            "justify_items": null,
            "left": null,
            "margin": null,
            "max_height": null,
            "max_width": null,
            "min_height": null,
            "min_width": null,
            "object_fit": null,
            "object_position": null,
            "order": null,
            "overflow": null,
            "overflow_x": null,
            "overflow_y": null,
            "padding": null,
            "right": null,
            "top": null,
            "visibility": null,
            "width": null
          }
        }
      }
    }
  },
  "nbformat": 4,
  "nbformat_minor": 0
}
